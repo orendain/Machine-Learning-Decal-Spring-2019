{
 "cells": [
  {
   "cell_type": "markdown",
   "metadata": {},
   "source": [
    "# Jupyter Notebook How To: "
   ]
  },
  {
   "cell_type": "markdown",
   "metadata": {},
   "source": [
    "Below is a code cell. Code cells allow you to enter and run code\n",
    "Run a code cell using Shift-Enter or pressing the  button in the toolbar above:"
   ]
  },
  {
   "cell_type": "code",
   "execution_count": 1,
   "metadata": {},
   "outputs": [
    {
     "name": "stdout",
     "output_type": "stream",
     "text": [
      "Hello Python world!\n"
     ]
    }
   ],
   "source": [
    "message = \"Hello Python world!\"\n",
    "print(message)"
   ]
  },
  {
   "cell_type": "markdown",
   "metadata": {},
   "source": [
    "There are two other keyboard shortcuts for running code:\n",
    "\n",
    "Alt-Enter runs the current cell and inserts a new one below.\n",
    "Ctrl-Enter run the current cell and enters command mode."
   ]
  },
  {
   "cell_type": "markdown",
   "metadata": {},
   "source": [
    "Its helpful to get to know the different cell running options in the Cell menu\n",
    "The \"Cell\" menu has a number of menu items for running code in different ways. Go ahead and take a look! "
   ]
  },
  {
   "cell_type": "markdown",
   "metadata": {},
   "source": [
    "### Restarting the kernels\n",
    "The kernel maintains the state of a notebook's computations. You can reset this state by restarting the kernel. This is done by clicking on the  in the toolbar above. Once you restart your kernel you will need to rerun all the cells you previously had run."
   ]
  },
  {
   "cell_type": "markdown",
   "metadata": {},
   "source": [
    "The best way to best understand Jupyter Notebooks is to play around with one! Keep going through this tutorial and feel free to raise your hand and ask any questions if something comes up or post on piazza! "
   ]
  },
  {
   "cell_type": "markdown",
   "metadata": {},
   "source": [
    "# Helpful Basic Python How To: \n",
    "\n",
    "Feel free to skip on to the Numpy section if you have 61A+ eqivalent python programming knowledge"
   ]
  },
  {
   "cell_type": "markdown",
   "metadata": {},
   "source": [
    "### Variables\n",
    "We can use variables to hold values. These variables can hold different types of values. You can use type() to see what the variable's type. "
   ]
  },
  {
   "cell_type": "code",
   "execution_count": 2,
   "metadata": {},
   "outputs": [
    {
     "data": {
      "text/plain": [
       "float"
      ]
     },
     "execution_count": 2,
     "metadata": {},
     "output_type": "execute_result"
    }
   ],
   "source": [
    "x = 1.0\n",
    "type(x)"
   ]
  },
  {
   "cell_type": "code",
   "execution_count": 3,
   "metadata": {},
   "outputs": [
    {
     "data": {
      "text/plain": [
       "int"
      ]
     },
     "execution_count": 3,
     "metadata": {},
     "output_type": "execute_result"
    }
   ],
   "source": [
    "x = 1\n",
    "type(x)"
   ]
  },
  {
   "cell_type": "code",
   "execution_count": 4,
   "metadata": {},
   "outputs": [
    {
     "data": {
      "text/plain": [
       "str"
      ]
     },
     "execution_count": 4,
     "metadata": {},
     "output_type": "execute_result"
    }
   ],
   "source": [
    "x = \"Machine Learning Decal is hella dope\"\n",
    "type(x)"
   ]
  },
  {
   "cell_type": "code",
   "execution_count": 5,
   "metadata": {},
   "outputs": [
    {
     "name": "stdout",
     "output_type": "stream",
     "text": [
      "11\n"
     ]
    }
   ],
   "source": [
    "w = 3 \n",
    "y = 8\n",
    "z = w + y \n",
    "print(z)"
   ]
  },
  {
   "cell_type": "markdown",
   "metadata": {},
   "source": [
    "Try assigning a variable to the letter 'c' that's the sum of two variable '"
   ]
  },
  {
   "cell_type": "code",
   "execution_count": 6,
   "metadata": {},
   "outputs": [
    {
     "ename": "SyntaxError",
     "evalue": "invalid syntax (<ipython-input-6-020b712e995b>, line 2)",
     "output_type": "error",
     "traceback": [
      "\u001b[0;36m  File \u001b[0;32m\"<ipython-input-6-020b712e995b>\"\u001b[0;36m, line \u001b[0;32m2\u001b[0m\n\u001b[0;31m    a =\u001b[0m\n\u001b[0m        ^\u001b[0m\n\u001b[0;31mSyntaxError\u001b[0m\u001b[0;31m:\u001b[0m invalid syntax\n"
     ]
    }
   ],
   "source": [
    "## Your answer here ## \n",
    "a = \n",
    "b = \n",
    "c = "
   ]
  },
  {
   "cell_type": "markdown",
   "metadata": {},
   "source": [
    "### Dictionaries \n",
    "Think of a dictionary as an unordered set of key: value pairs, with the requirement that the keys are unique (within one dictionary).\n",
    "You can use keys to retrieve the values associated with that key. "
   ]
  },
  {
   "cell_type": "code",
   "execution_count": 7,
   "metadata": {},
   "outputs": [
    {
     "name": "stdout",
     "output_type": "stream",
     "text": [
      "<class 'dict'>\n",
      "{'parameter1': 1.0, 'parameter2': 2.0, 'parameter3': 3.0}\n",
      "1.0\n",
      "2.0\n",
      "3.0\n"
     ]
    }
   ],
   "source": [
    "params = {\"parameter1\" : 1.0,\n",
    "          \"parameter2\" : 2.0,\n",
    "          \"parameter3\" : 3.0,}\n",
    "\n",
    "print(type(params))\n",
    "print(params)\n",
    "print(params[\"parameter1\"])\n",
    "print(params[\"parameter2\"])\n",
    "print(params[\"parameter3\"])"
   ]
  },
  {
   "cell_type": "markdown",
   "metadata": {},
   "source": [
    "### Lists\n",
    "Lists are the most commonly used data structure. Think of it as a sequence of data that is enclosed in square brackets and data are separated by a comma. Each of these data can be accessed by calling it's index value.\n",
    "\n",
    "Lists are declared by just equating a variable to '[ ]' or list. "
   ]
  },
  {
   "cell_type": "code",
   "execution_count": 8,
   "metadata": {},
   "outputs": [
    {
     "name": "stdout",
     "output_type": "stream",
     "text": [
      "<class 'list'>\n"
     ]
    }
   ],
   "source": [
    "a = [1,2,3]\n",
    "print(type(a))"
   ]
  },
  {
   "cell_type": "markdown",
   "metadata": {},
   "source": [
    "You can diretly assign values to a list like below: "
   ]
  },
  {
   "cell_type": "code",
   "execution_count": 9,
   "metadata": {},
   "outputs": [],
   "source": [
    "x = ['machine learning', 'data science', 'berkeley']"
   ]
  },
  {
   "cell_type": "markdown",
   "metadata": {},
   "source": [
    "### Indexing\n",
    "In python, Indexing starts from 0. Thus now the list x, which has two elements will have apple at 0 index and orange at 1 index.\n"
   ]
  },
  {
   "cell_type": "code",
   "execution_count": 10,
   "metadata": {},
   "outputs": [
    {
     "data": {
      "text/plain": [
       "'machine learning'"
      ]
     },
     "execution_count": 10,
     "metadata": {},
     "output_type": "execute_result"
    }
   ],
   "source": [
    "x[0]"
   ]
  },
  {
   "cell_type": "markdown",
   "metadata": {},
   "source": [
    "You can also directly change the value of an index: "
   ]
  },
  {
   "cell_type": "code",
   "execution_count": 11,
   "metadata": {},
   "outputs": [],
   "source": [
    "x[0] = \"ai buzzword!\""
   ]
  },
  {
   "cell_type": "code",
   "execution_count": 12,
   "metadata": {},
   "outputs": [
    {
     "data": {
      "text/plain": [
       "['ai buzzword!', 'data science', 'berkeley']"
      ]
     },
     "execution_count": 12,
     "metadata": {},
     "output_type": "execute_result"
    }
   ],
   "source": [
    "x"
   ]
  },
  {
   "cell_type": "markdown",
   "metadata": {},
   "source": [
    "You can also use negative indices to go backwards in a list"
   ]
  },
  {
   "cell_type": "code",
   "execution_count": 13,
   "metadata": {},
   "outputs": [
    {
     "data": {
      "text/plain": [
       "'berkeley'"
      ]
     },
     "execution_count": 13,
     "metadata": {},
     "output_type": "execute_result"
    }
   ],
   "source": [
    "x[-1]"
   ]
  },
  {
   "cell_type": "markdown",
   "metadata": {},
   "source": [
    "You can even have lists inside of lists, this is the same ideas of how we'd store a matrix. "
   ]
  },
  {
   "cell_type": "code",
   "execution_count": 14,
   "metadata": {},
   "outputs": [],
   "source": [
    "y = [x]"
   ]
  },
  {
   "cell_type": "code",
   "execution_count": 15,
   "metadata": {},
   "outputs": [
    {
     "data": {
      "text/plain": [
       "[['ai buzzword!', 'data science', 'berkeley']]"
      ]
     },
     "execution_count": 15,
     "metadata": {},
     "output_type": "execute_result"
    }
   ],
   "source": [
    "y"
   ]
  },
  {
   "cell_type": "markdown",
   "metadata": {},
   "source": [
    "Now try and access the original list x from y! "
   ]
  },
  {
   "cell_type": "code",
   "execution_count": 16,
   "metadata": {},
   "outputs": [
    {
     "data": {
      "text/plain": [
       "['ai buzzword!', 'data science', 'berkeley']"
      ]
     },
     "execution_count": 16,
     "metadata": {},
     "output_type": "execute_result"
    }
   ],
   "source": [
    "## FILL THIS IN! ##\n",
    "y[0]"
   ]
  },
  {
   "cell_type": "markdown",
   "metadata": {},
   "source": [
    "Now try and access the the word 'berkeley' from y! "
   ]
  },
  {
   "cell_type": "code",
   "execution_count": 17,
   "metadata": {},
   "outputs": [
    {
     "data": {
      "text/plain": [
       "'berkeley'"
      ]
     },
     "execution_count": 17,
     "metadata": {},
     "output_type": "execute_result"
    }
   ],
   "source": [
    "## FILL THIS IN ##\n",
    "y[0][2]"
   ]
  },
  {
   "cell_type": "markdown",
   "metadata": {},
   "source": [
    "### Slicing\n",
    "Indexing was only limited to accessing a single element, Slicing on the other hand is accessing a sequence of data inside the list. In other words \"slicing\" the list.\n",
    "\n",
    "Slicing is done by defining the index values of the first element and the last element from the parent list that is required in the sliced list. It is written as parentlist[ a : b ] where a,b are the index values from the parent list. If a or b is not defined then the index value is considered to be the first value for a if a is not defined and the last value for b when b is not defined."
   ]
  },
  {
   "cell_type": "code",
   "execution_count": 18,
   "metadata": {},
   "outputs": [
    {
     "name": "stdout",
     "output_type": "stream",
     "text": [
      "[0, 1, 2, 3]\n",
      "[4, 5, 6, 7, 8, 9]\n"
     ]
    }
   ],
   "source": [
    "num = [0,1,2,3,4,5,6,7,8,9]\n",
    "print(num[0:4])\n",
    "print(num[4:])"
   ]
  },
  {
   "cell_type": "code",
   "execution_count": 19,
   "metadata": {},
   "outputs": [],
   "source": [
    "coolio_list = [2,9,3,8,4,7,5,6]"
   ]
  },
  {
   "cell_type": "markdown",
   "metadata": {},
   "source": [
    "Try and use slicing to get the list [2,9,3,8,4,7,5] or just play around with slicing and see what kind of results you get! "
   ]
  },
  {
   "cell_type": "code",
   "execution_count": 20,
   "metadata": {},
   "outputs": [
    {
     "data": {
      "text/plain": [
       "[3, 8]"
      ]
     },
     "execution_count": 20,
     "metadata": {},
     "output_type": "execute_result"
    }
   ],
   "source": [
    "## FILL THIS IN### \n",
    "coolio_list[2:4]"
   ]
  },
  {
   "cell_type": "markdown",
   "metadata": {},
   "source": [
    "### Built in List Functions\n"
   ]
  },
  {
   "cell_type": "code",
   "execution_count": 21,
   "metadata": {},
   "outputs": [
    {
     "name": "stdout",
     "output_type": "stream",
     "text": [
      "10\n",
      "0\n",
      "9\n",
      "[1, 2, 3, 5, 4, 7]\n"
     ]
    },
    {
     "data": {
      "text/plain": [
       "True"
      ]
     },
     "execution_count": 21,
     "metadata": {},
     "output_type": "execute_result"
    }
   ],
   "source": [
    "#Find the length\n",
    "print(len(num))\n",
    "\n",
    "#Find the min value\n",
    "print(min(num))\n",
    "\n",
    "#Find the max value\n",
    "print(max(num))\n",
    "\n",
    "#Concetate two lists \n",
    "x = [1,2,3] + [5,4,7]\n",
    "print(x)\n",
    "\n",
    "#Check if an element is in a list\n",
    "1 in x"
   ]
  },
  {
   "cell_type": "markdown",
   "metadata": {},
   "source": [
    "### For Loops \n",
    "For loops lets you iterate through data. "
   ]
  },
  {
   "cell_type": "code",
   "execution_count": 22,
   "metadata": {},
   "outputs": [
    {
     "name": "stdout",
     "output_type": "stream",
     "text": [
      "0\n",
      "1\n",
      "2\n",
      "3\n"
     ]
    }
   ],
   "source": [
    "for x in range(4):\n",
    "    print(x)"
   ]
  },
  {
   "cell_type": "code",
   "execution_count": 23,
   "metadata": {},
   "outputs": [
    {
     "name": "stdout",
     "output_type": "stream",
     "text": [
      "a\n",
      "r\n",
      "e\n",
      "n\n",
      "'\n",
      "t\n",
      " \n",
      "f\n",
      "o\n",
      "r\n",
      " \n",
      "l\n",
      "o\n",
      "o\n",
      "p\n",
      "s\n",
      " \n",
      "f\n",
      "u\n",
      "n\n",
      "!\n"
     ]
    }
   ],
   "source": [
    "a = \"aren't for loops fun!\" \n",
    "#iterate through the sentence letter by letter\n",
    "for x in a:\n",
    "    print(x)"
   ]
  },
  {
   "cell_type": "code",
   "execution_count": 24,
   "metadata": {},
   "outputs": [
    {
     "name": "stdout",
     "output_type": "stream",
     "text": [
      "parameter1 = 1.0\n",
      "parameter2 = 2.0\n",
      "parameter3 = 3.0\n"
     ]
    }
   ],
   "source": [
    "#iterate through the key value pairs from the dictionary we defined earlier\n",
    "for key, value in params.items():\n",
    "    print(key + \" = \" + str(value))"
   ]
  },
  {
   "cell_type": "markdown",
   "metadata": {},
   "source": [
    "Iterate through the the following sentence and print out every characters "
   ]
  },
  {
   "cell_type": "code",
   "execution_count": 25,
   "metadata": {},
   "outputs": [
    {
     "name": "stdout",
     "output_type": "stream",
     "text": [
      "I\n",
      " \n",
      "a\n",
      "m\n",
      " \n",
      "s\n",
      "o\n",
      " \n",
      "e\n",
      "x\n",
      "c\n",
      "i\n",
      "t\n",
      "e\n",
      "d\n",
      " \n",
      "f\n",
      "o\n",
      "r\n",
      " \n",
      "t\n",
      "h\n",
      "e\n",
      " \n",
      "D\n",
      "a\n",
      "t\n",
      "a\n",
      " \n",
      "S\n",
      "c\n",
      "i\n",
      "e\n",
      "n\n",
      "c\n",
      "e\n",
      " \n",
      "D\n",
      "e\n",
      "c\n",
      "a\n",
      "l\n",
      "!\n",
      "!\n",
      "!\n",
      "!\n"
     ]
    }
   ],
   "source": [
    "sentence = \"I am so excited for the Data Science Decal!!!!\"\n",
    "for c in sentence:\n",
    "    print(c)\n"
   ]
  },
  {
   "cell_type": "markdown",
   "metadata": {},
   "source": [
    "### Define a Function\n",
    "We can create helpful functions where we can save code to be reused. Let's make some helpful functions!"
   ]
  },
  {
   "cell_type": "code",
   "execution_count": 26,
   "metadata": {},
   "outputs": [],
   "source": [
    "def square(x):\n",
    "    return x*x \n",
    "\n",
    "# You can return multiple  values\n",
    "def powers(x):\n",
    "    return x ** 2, x ** 3, x ** 4\n",
    "\n",
    "#You don't have to have a return value\n",
    "def split_up_string(x):\n",
    "    for s in x:\n",
    "        print(s)"
   ]
  },
  {
   "cell_type": "markdown",
   "metadata": {},
   "source": [
    "Your turn! Try and define your own function below: "
   ]
  },
  {
   "cell_type": "code",
   "execution_count": 28,
   "metadata": {},
   "outputs": [],
   "source": [
    "#Define your function here\n",
    "def not_random():\n",
    "    return 4;"
   ]
  },
  {
   "cell_type": "markdown",
   "metadata": {},
   "source": [
    "# Numpy\n",
    "\n",
    "What is Numpy and why do we use it? \n",
    "\n",
    "It's an awesome python package that adds support for large, multi-dimensional arrays. Really good for vector operations, matrix operations because its super parallelized so its super fast! \n"
   ]
  },
  {
   "cell_type": "markdown",
   "metadata": {},
   "source": [
    "Why not Python arrays? \n",
    "\n",
    "Python arrays has certain limitations: they don’t support “vectorized” operations like elementwise addition and multiplication, and the fact that they can contain objects of differing types mean that Python must store type information for every element, and must execute type dispatching code when operating on each element. This also means that very few list operations can be carried out by efficient C loops – each iteration would require type checks and other Python API bookkeeping.\n",
    "\n"
   ]
  },
  {
   "cell_type": "markdown",
   "metadata": {},
   "source": [
    "### Importing numpy\n",
    "Functions for numerical computiing are provided by a separate module called numpy which we must import.\n",
    "\n",
    "By convention, we import numpy using the alias np.\n",
    "\n",
    "Once we have done this we can prefix the functions in the numpy library using the prefix np."
   ]
  },
  {
   "cell_type": "code",
   "execution_count": 29,
   "metadata": {},
   "outputs": [],
   "source": [
    "# This is the de facto way to import NumPy. You probably don't want to write numpy.whatever every time\n",
    "import numpy as np"
   ]
  },
  {
   "cell_type": "markdown",
   "metadata": {},
   "source": [
    "### Numpy Arrays\n",
    "NumPy arrays are the workhorse of the library. A NumPy array is essentially a bunch of data coupled with some metadata:\n",
    "\n",
    "type: the type of objects in the array. This will typically be floating-point numbers for our purposes, but other types can be stored. The type of an array can be accessed via the dtype attribute.\n",
    "\n",
    "shape: the dimensions of the array. This is given as a tuple, where element $i$ of the tuple tells you how the \"length\" of the array in the $i$th dimension. For example, a 10-dimensional vector would have shape (10,), a 32-by-100 matrix would have shape (32,100), etc. The shape of an array can be accessed via the shape attribute.\n",
    "\n",
    "Let's see some examples! There are number of ways to construct arrays. One is to pass in a Python sequence (such as list or tuple) to the np.array function:"
   ]
  },
  {
   "cell_type": "code",
   "execution_count": 30,
   "metadata": {},
   "outputs": [
    {
     "data": {
      "text/plain": [
       "array([ 1. ,  2.3, -6. ])"
      ]
     },
     "execution_count": 30,
     "metadata": {},
     "output_type": "execute_result"
    }
   ],
   "source": [
    "np.array([1, 2.3, -6])"
   ]
  },
  {
   "cell_type": "markdown",
   "metadata": {
    "collapsed": true
   },
   "source": [
    "We can also easily create ordered numerical lists!"
   ]
  },
  {
   "cell_type": "code",
   "execution_count": 31,
   "metadata": {},
   "outputs": [
    {
     "name": "stdout",
     "output_type": "stream",
     "text": [
      "[0 1 2 3 4 5 6]\n",
      "[3 4 5 6 7 8]\n"
     ]
    }
   ],
   "source": [
    "# Remember we zero index so you will actually get 0 to 6!\n",
    "print(np.arange(7))\n",
    "# Rmember the list wont include 9\n",
    "print(np.arange(3, 9))"
   ]
  },
  {
   "cell_type": "markdown",
   "metadata": {},
   "source": [
    "We can also customize these list with a third paramter that specifices step size"
   ]
  },
  {
   "cell_type": "code",
   "execution_count": 32,
   "metadata": {},
   "outputs": [
    {
     "data": {
      "text/plain": [
       "array([ 0., 10., 20., 30., 40., 50., 60., 70., 80., 90.])"
      ]
     },
     "execution_count": 32,
     "metadata": {},
     "output_type": "execute_result"
    }
   ],
   "source": [
    "np.arange(0.0, 100.0, 10.0)"
   ]
  },
  {
   "cell_type": "markdown",
   "metadata": {},
   "source": [
    "To create a multi-dimensional array, we'll need to nest the sequences:"
   ]
  },
  {
   "cell_type": "code",
   "execution_count": 33,
   "metadata": {},
   "outputs": [
    {
     "data": {
      "text/plain": [
       "array([[ 1. ,  2.3, -6. ],\n",
       "       [ 7. ,  8. ,  9. ]])"
      ]
     },
     "execution_count": 33,
     "metadata": {},
     "output_type": "execute_result"
    }
   ],
   "source": [
    "np.array([[1, 2.3, -6], [7, 8, 9]])"
   ]
  },
  {
   "cell_type": "markdown",
   "metadata": {},
   "source": [
    "Neat! \n",
    "\n",
    "There are also many convenience functions for constructing special arrays. Here are some that might be useful: "
   ]
  },
  {
   "cell_type": "code",
   "execution_count": 34,
   "metadata": {},
   "outputs": [
    {
     "data": {
      "text/plain": [
       "array([[1., 0., 0., 0., 0., 0., 0.],\n",
       "       [0., 1., 0., 0., 0., 0., 0.],\n",
       "       [0., 0., 1., 0., 0., 0., 0.],\n",
       "       [0., 0., 0., 1., 0., 0., 0.],\n",
       "       [0., 0., 0., 0., 1., 0., 0.],\n",
       "       [0., 0., 0., 0., 0., 1., 0.],\n",
       "       [0., 0., 0., 0., 0., 0., 1.]])"
      ]
     },
     "execution_count": 34,
     "metadata": {},
     "output_type": "execute_result"
    }
   ],
   "source": [
    "# The identity matrix of given size\n",
    "np.eye(7)"
   ]
  },
  {
   "cell_type": "code",
   "execution_count": 35,
   "metadata": {},
   "outputs": [
    {
     "data": {
      "text/plain": [
       "array([[1.1, 0. , 0. ],\n",
       "       [0. , 2.2, 0. ],\n",
       "       [0. , 0. , 3.3]])"
      ]
     },
     "execution_count": 35,
     "metadata": {},
     "output_type": "execute_result"
    }
   ],
   "source": [
    "# A matrix with the given vector on the diagonal\n",
    "np.diag([1.1,2.2,3.3])"
   ]
  },
  {
   "cell_type": "code",
   "execution_count": 36,
   "metadata": {},
   "outputs": [
    {
     "data": {
      "text/plain": [
       "(array([[0., 0., 0., 0.],\n",
       "        [0., 0., 0., 0.],\n",
       "        [0., 0., 0., 0.],\n",
       "        [0., 0., 0., 0.],\n",
       "        [0., 0., 0., 0.],\n",
       "        [0., 0., 0., 0.],\n",
       "        [0., 0., 0., 0.],\n",
       "        [0., 0., 0., 0.]]), array([1., 1., 1.]))"
      ]
     },
     "execution_count": 36,
     "metadata": {},
     "output_type": "execute_result"
    }
   ],
   "source": [
    "#An array of all zeros or ones with the given shape\n",
    "np.zeros((8,4)), np.ones(3)"
   ]
  },
  {
   "cell_type": "code",
   "execution_count": 37,
   "metadata": {},
   "outputs": [
    {
     "data": {
      "text/plain": [
       "array([[2.1, 2.1, 2.1, 2.1],\n",
       "       [2.1, 2.1, 2.1, 2.1],\n",
       "       [2.1, 2.1, 2.1, 2.1]])"
      ]
     },
     "execution_count": 37,
     "metadata": {},
     "output_type": "execute_result"
    }
   ],
   "source": [
    "# An array with a given shape full of a specified value\n",
    "np.full((3,4), 2.1)"
   ]
  },
  {
   "cell_type": "code",
   "execution_count": 38,
   "metadata": {},
   "outputs": [
    {
     "data": {
      "text/plain": [
       "array([[ 1.86190416, -0.49640619, -0.03807403,  0.24522602, -0.71414232,\n",
       "         0.52794499],\n",
       "       [-0.37550916,  1.6534521 , -0.010315  ,  0.68672697, -0.60700919,\n",
       "        -0.77081922],\n",
       "       [-0.63861057, -1.19307505,  1.14010906, -0.34192906,  0.45799223,\n",
       "         0.02340099],\n",
       "       [-1.01200481,  0.05864383,  0.07759246,  0.94853246,  0.56925855,\n",
       "        -1.11200808],\n",
       "       [ 1.01822523, -0.43466287, -0.69385282,  0.17082896,  1.28164975,\n",
       "        -0.27367017]])"
      ]
     },
     "execution_count": 38,
     "metadata": {},
     "output_type": "execute_result"
    }
   ],
   "source": [
    "# A random (standard normal) array with the given shape\n",
    "np.random.randn(5,6)"
   ]
  },
  {
   "cell_type": "markdown",
   "metadata": {},
   "source": [
    "Okay your turn! In the cell belows try and create:\n",
    "\n",
    "\n",
    "-A diagonal matrix with values from 1-20 (try and create this and only type one number!)"
   ]
  },
  {
   "cell_type": "code",
   "execution_count": 40,
   "metadata": {},
   "outputs": [
    {
     "data": {
      "text/plain": [
       "array([[ 0,  0,  0,  0,  0,  0,  0,  0,  0,  0,  0,  0,  0,  0,  0,  0,\n",
       "         0,  0,  0,  0,  0],\n",
       "       [ 0,  1,  0,  0,  0,  0,  0,  0,  0,  0,  0,  0,  0,  0,  0,  0,\n",
       "         0,  0,  0,  0,  0],\n",
       "       [ 0,  0,  2,  0,  0,  0,  0,  0,  0,  0,  0,  0,  0,  0,  0,  0,\n",
       "         0,  0,  0,  0,  0],\n",
       "       [ 0,  0,  0,  3,  0,  0,  0,  0,  0,  0,  0,  0,  0,  0,  0,  0,\n",
       "         0,  0,  0,  0,  0],\n",
       "       [ 0,  0,  0,  0,  4,  0,  0,  0,  0,  0,  0,  0,  0,  0,  0,  0,\n",
       "         0,  0,  0,  0,  0],\n",
       "       [ 0,  0,  0,  0,  0,  5,  0,  0,  0,  0,  0,  0,  0,  0,  0,  0,\n",
       "         0,  0,  0,  0,  0],\n",
       "       [ 0,  0,  0,  0,  0,  0,  6,  0,  0,  0,  0,  0,  0,  0,  0,  0,\n",
       "         0,  0,  0,  0,  0],\n",
       "       [ 0,  0,  0,  0,  0,  0,  0,  7,  0,  0,  0,  0,  0,  0,  0,  0,\n",
       "         0,  0,  0,  0,  0],\n",
       "       [ 0,  0,  0,  0,  0,  0,  0,  0,  8,  0,  0,  0,  0,  0,  0,  0,\n",
       "         0,  0,  0,  0,  0],\n",
       "       [ 0,  0,  0,  0,  0,  0,  0,  0,  0,  9,  0,  0,  0,  0,  0,  0,\n",
       "         0,  0,  0,  0,  0],\n",
       "       [ 0,  0,  0,  0,  0,  0,  0,  0,  0,  0, 10,  0,  0,  0,  0,  0,\n",
       "         0,  0,  0,  0,  0],\n",
       "       [ 0,  0,  0,  0,  0,  0,  0,  0,  0,  0,  0, 11,  0,  0,  0,  0,\n",
       "         0,  0,  0,  0,  0],\n",
       "       [ 0,  0,  0,  0,  0,  0,  0,  0,  0,  0,  0,  0, 12,  0,  0,  0,\n",
       "         0,  0,  0,  0,  0],\n",
       "       [ 0,  0,  0,  0,  0,  0,  0,  0,  0,  0,  0,  0,  0, 13,  0,  0,\n",
       "         0,  0,  0,  0,  0],\n",
       "       [ 0,  0,  0,  0,  0,  0,  0,  0,  0,  0,  0,  0,  0,  0, 14,  0,\n",
       "         0,  0,  0,  0,  0],\n",
       "       [ 0,  0,  0,  0,  0,  0,  0,  0,  0,  0,  0,  0,  0,  0,  0, 15,\n",
       "         0,  0,  0,  0,  0],\n",
       "       [ 0,  0,  0,  0,  0,  0,  0,  0,  0,  0,  0,  0,  0,  0,  0,  0,\n",
       "        16,  0,  0,  0,  0],\n",
       "       [ 0,  0,  0,  0,  0,  0,  0,  0,  0,  0,  0,  0,  0,  0,  0,  0,\n",
       "         0, 17,  0,  0,  0],\n",
       "       [ 0,  0,  0,  0,  0,  0,  0,  0,  0,  0,  0,  0,  0,  0,  0,  0,\n",
       "         0,  0, 18,  0,  0],\n",
       "       [ 0,  0,  0,  0,  0,  0,  0,  0,  0,  0,  0,  0,  0,  0,  0,  0,\n",
       "         0,  0,  0, 19,  0],\n",
       "       [ 0,  0,  0,  0,  0,  0,  0,  0,  0,  0,  0,  0,  0,  0,  0,  0,\n",
       "         0,  0,  0,  0, 20]])"
      ]
     },
     "execution_count": 40,
     "metadata": {},
     "output_type": "execute_result"
    }
   ],
   "source": [
    "#Your answer here\n",
    "np.diag(np.arange(21))"
   ]
  },
  {
   "cell_type": "markdown",
   "metadata": {},
   "source": [
    "Okay now let's suppose we have some data in an array so we can start doing stuff with it.\n"
   ]
  },
  {
   "cell_type": "code",
   "execution_count": 41,
   "metadata": {},
   "outputs": [
    {
     "data": {
      "text/plain": [
       "array([[ 0.11620458,  1.35164834,  0.15723169,  0.49553879,  0.73930928],\n",
       "       [ 0.45893866, -0.64800708, -0.37482304,  0.89051024,  0.48245644],\n",
       "       [ 0.26460016, -0.30245245, -0.12142642,  1.65753777,  0.52989646],\n",
       "       [ 0.72181339, -0.31099303, -1.29995125,  0.38379259,  0.45879832],\n",
       "       [-2.43068453, -0.62729334,  1.32474307,  2.33906969,  0.45761802],\n",
       "       [ 0.01455233, -0.10242222,  0.31511696, -0.41181545, -2.17941099],\n",
       "       [ 0.58501627,  2.17563944, -0.56202723,  0.37785595,  2.37868693],\n",
       "       [-0.21287742, -1.6556199 , -2.06014255, -0.38359202,  0.07118475],\n",
       "       [-2.01625749, -0.34859207,  0.12390575, -0.61794511,  0.40225418],\n",
       "       [-0.87824895, -0.32291853,  0.10612539,  0.54523194,  0.92252409]])"
      ]
     },
     "execution_count": 41,
     "metadata": {},
     "output_type": "execute_result"
    }
   ],
   "source": [
    "A = np.random.randn(10,5); x = np.random.randn(5)\n",
    "A"
   ]
  },
  {
   "cell_type": "markdown",
   "metadata": {},
   "source": [
    "One useful thing that NumPy lets us do efficiently is apply the same function to every element in an array. You'll often need to e.g. exponentiate a bunch of values, but if you use a list comprehension or map with the builtin Python math functions it may be really slow. Instead just write"
   ]
  },
  {
   "cell_type": "code",
   "execution_count": 42,
   "metadata": {},
   "outputs": [
    {
     "data": {
      "text/plain": [
       "array([[ 1.12322564,  3.86378914,  1.17026673,  1.64138236,  2.09448831],\n",
       "       [ 1.58239363,  0.52308721,  0.68741092,  2.43637246,  1.62004907],\n",
       "       [ 1.30290992,  0.73900363,  0.88565622,  5.24637715,  1.6987564 ],\n",
       "       [ 2.05816207,  0.73271899,  0.27254508,  1.46784096,  1.58217158],\n",
       "       [ 0.08797659,  0.5340353 ,  3.76121887, 10.37158324,  1.58030525],\n",
       "       [ 1.01465873,  0.90264835,  1.37041959,  0.66244652,  0.11310813],\n",
       "       [ 1.79502019,  8.80781537,  0.57005226,  1.45915274, 10.79072461],\n",
       "       [ 0.80825521,  0.19097363,  0.1274358 ,  0.68140938,  1.07377959],\n",
       "       [ 0.13315286,  0.70568094,  1.13190918,  0.53905099,  1.49519134],\n",
       "       [ 0.41550985,  0.72403284,  1.1119613 ,  1.72500844,  2.51563205]])"
      ]
     },
     "execution_count": 42,
     "metadata": {},
     "output_type": "execute_result"
    }
   ],
   "source": [
    "# log, sin, cos, etc. work similarly\n",
    "np.exp(A)"
   ]
  },
  {
   "cell_type": "markdown",
   "metadata": {},
   "source": [
    "We can take the sum/mean/standard deviation/etc. of all the elements in an array:"
   ]
  },
  {
   "cell_type": "code",
   "execution_count": 43,
   "metadata": {},
   "outputs": [
    {
     "data": {
      "text/plain": [
       "(1.7481817690398858, 0.34963635380797714, 1.349628148851146)"
      ]
     },
     "execution_count": 43,
     "metadata": {},
     "output_type": "execute_result"
    }
   ],
   "source": [
    "np.sum(x), np.mean(x), np.std(x)"
   ]
  },
  {
   "cell_type": "markdown",
   "metadata": {},
   "source": [
    "You can also specify an axis over which to compute the sum if you want a vector of row/column sums (again, sum here can be replaced with mean or other operations):"
   ]
  },
  {
   "cell_type": "code",
   "execution_count": 44,
   "metadata": {},
   "outputs": [
    {
     "data": {
      "text/plain": [
       "(array([[0, 1],\n",
       "        [2, 3]]), array([2, 4]), array([1, 5]))"
      ]
     },
     "execution_count": 44,
     "metadata": {},
     "output_type": "execute_result"
    }
   ],
   "source": [
    "# Create an array with numbers in the range 0,...,3 (similar to the normal Python range function,\n",
    "# but it returns a NumPy array) and then reshape it to a 2x2 matrix\n",
    "B = np.arange(4).reshape((2,2))\n",
    "\n",
    "# Original matrix, column sum, row sum\n",
    "B, np.sum(B, axis=0), np.sum(B, axis=1)"
   ]
  },
  {
   "cell_type": "markdown",
   "metadata": {},
   "source": [
    "### Linear Algebra\n",
    "By now we have a pretty good idea of how data is stored and accessed within NumPy arrays. But we typically want to do something more \"interesting\", which for our purposes usually means linear algebra operations. Fortunately NumPy has good support for such routines. Let's see some examples!"
   ]
  },
  {
   "cell_type": "code",
   "execution_count": 45,
   "metadata": {},
   "outputs": [
    {
     "data": {
      "text/plain": [
       "array([-1.76520232,  0.75702356, -0.05399262, -0.86817485, -1.71072866,\n",
       "        0.42123585, -3.18224209, -1.434357  , -2.18017395, -0.80830155])"
      ]
     },
     "execution_count": 45,
     "metadata": {},
     "output_type": "execute_result"
    }
   ],
   "source": [
    "# Matrix-vector product. The dimensions have to match, of course\n",
    "A.dot(x)\n",
    "# Note that in Python3 there is also a slick notation A @ x which does the same thing"
   ]
  },
  {
   "cell_type": "code",
   "execution_count": 46,
   "metadata": {},
   "outputs": [
    {
     "data": {
      "text/plain": [
       "array([[ 0.11620458,  0.45893866,  0.26460016,  0.72181339, -2.43068453,\n",
       "         0.01455233,  0.58501627, -0.21287742, -2.01625749, -0.87824895],\n",
       "       [ 1.35164834, -0.64800708, -0.30245245, -0.31099303, -0.62729334,\n",
       "        -0.10242222,  2.17563944, -1.6556199 , -0.34859207, -0.32291853],\n",
       "       [ 0.15723169, -0.37482304, -0.12142642, -1.29995125,  1.32474307,\n",
       "         0.31511696, -0.56202723, -2.06014255,  0.12390575,  0.10612539],\n",
       "       [ 0.49553879,  0.89051024,  1.65753777,  0.38379259,  2.33906969,\n",
       "        -0.41181545,  0.37785595, -0.38359202, -0.61794511,  0.54523194],\n",
       "       [ 0.73930928,  0.48245644,  0.52989646,  0.45879832,  0.45761802,\n",
       "        -2.17941099,  2.37868693,  0.07118475,  0.40225418,  0.92252409]])"
      ]
     },
     "execution_count": 46,
     "metadata": {},
     "output_type": "execute_result"
    }
   ],
   "source": [
    "# Transpose a matrix\n",
    "A.T"
   ]
  },
  {
   "cell_type": "markdown",
   "metadata": {},
   "source": [
    "Now that you're familiar with numpy feel free to check out the documentation and see what else you can do! Documentation can be found here: https://docs.scipy.org/doc/"
   ]
  },
  {
   "cell_type": "markdown",
   "metadata": {
    "collapsed": true
   },
   "source": [
    "## Excercises \n",
    "Lets try out all the new numpy stuff we just learned! Even if you have experience in numpy we suggest trying these out. "
   ]
  },
  {
   "cell_type": "markdown",
   "metadata": {},
   "source": [
    "1) Create a vector of size 10 containing zeros "
   ]
  },
  {
   "cell_type": "code",
   "execution_count": 50,
   "metadata": {},
   "outputs": [
    {
     "name": "stdout",
     "output_type": "stream",
     "text": [
      "[0. 0. 0. 0. 0. 0. 0. 0. 0. 0.]\n"
     ]
    }
   ],
   "source": [
    "## FILL IN YOUR ANSWER HERE ##\n",
    "V = np.zeros(10)\n",
    "print(V)"
   ]
  },
  {
   "cell_type": "markdown",
   "metadata": {},
   "source": [
    "2) Now change the fith value to be 5 "
   ]
  },
  {
   "cell_type": "code",
   "execution_count": 51,
   "metadata": {},
   "outputs": [
    {
     "name": "stdout",
     "output_type": "stream",
     "text": [
      "[0. 0. 0. 0. 5. 0. 0. 0. 0. 0.]\n"
     ]
    }
   ],
   "source": [
    "## FILL IN YOUR ANSWER HERE ##\n",
    "V[4] = 5\n",
    "print(V)"
   ]
  },
  {
   "cell_type": "markdown",
   "metadata": {},
   "source": [
    "3) Create a vector with values ranging from 10 to 49"
   ]
  },
  {
   "cell_type": "code",
   "execution_count": 53,
   "metadata": {},
   "outputs": [
    {
     "name": "stdout",
     "output_type": "stream",
     "text": [
      "[10 11 12 13 14 15 16 17 18 19 20 21 22 23 24 25 26 27 28 29 30 31 32 33\n",
      " 34 35 36 37 38 39 40 41 42 43 44 45 46 47 48 49]\n"
     ]
    }
   ],
   "source": [
    "## FILL IN YOUR ANSWER HERE ##\n",
    "W = np.arange(10, 50)\n",
    "print(W)"
   ]
  },
  {
   "cell_type": "markdown",
   "metadata": {},
   "source": [
    "4) Reverse the previous vector (first element becomes last)"
   ]
  },
  {
   "cell_type": "code",
   "execution_count": 57,
   "metadata": {},
   "outputs": [
    {
     "name": "stdout",
     "output_type": "stream",
     "text": [
      "[49 48 47 46 45 44 43 42 41 40 39 38 37 36 35 34 33 32 31 30 29 28 27 26\n",
      " 25 24 23 22 21 20 19 18 17 16 15 14 13 12 11 10]\n"
     ]
    }
   ],
   "source": [
    "## FILL IN YOUR ANSWER HERE ##\n",
    "X = W[::-1]\n",
    "print(X)"
   ]
  },
  {
   "cell_type": "markdown",
   "metadata": {},
   "source": [
    "5) Create a 3x3 matrix with values ranging from 0 to 8. Create a 1D array first and then resshape it. "
   ]
  },
  {
   "cell_type": "code",
   "execution_count": 58,
   "metadata": {},
   "outputs": [
    {
     "name": "stdout",
     "output_type": "stream",
     "text": [
      "[0 1 2 3 4 5 6 7 8]\n",
      "[[0 1 2]\n",
      " [3 4 5]\n",
      " [6 7 8]]\n"
     ]
    }
   ],
   "source": [
    "## FILL IN YOUR ANSWER HERE ##\n",
    "Y = np.arange(0, 9)\n",
    "print(Y)\n",
    "Z = Y.reshape((3,3))\n",
    "print(Z)"
   ]
  },
  {
   "cell_type": "markdown",
   "metadata": {},
   "source": [
    "6) Create a 3x3x3 array with random values"
   ]
  },
  {
   "cell_type": "code",
   "execution_count": 60,
   "metadata": {},
   "outputs": [
    {
     "name": "stdout",
     "output_type": "stream",
     "text": [
      "[[[ 0.23563267 -0.27726715 -0.79133877]\n",
      "  [-1.3451441  -2.02183634 -0.04142874]\n",
      "  [ 0.77797243  0.64180253 -1.07447018]]\n",
      "\n",
      " [[ 0.99179873  1.8103556   1.18372764]\n",
      "  [ 0.78702317  1.27896119 -0.46516271]\n",
      "  [ 0.09924867 -0.28205713 -0.45080638]]\n",
      "\n",
      " [[-0.30650192 -0.00586108 -1.23618799]\n",
      "  [-0.00934577 -1.30309412  0.36980113]\n",
      "  [ 0.60926428  0.9246865   2.55654553]]]\n"
     ]
    }
   ],
   "source": [
    "## FILL IN YOUR ANSWER HERE ##\n",
    "R = np.random.randn(3,3,3)\n",
    "print(R)"
   ]
  },
  {
   "cell_type": "markdown",
   "metadata": {},
   "source": [
    "7) Create a random array and find the sum, mean, and standard deviation"
   ]
  },
  {
   "cell_type": "code",
   "execution_count": 64,
   "metadata": {},
   "outputs": [
    {
     "name": "stdout",
     "output_type": "stream",
     "text": [
      "[0.67256152 0.00835099 0.07484873 0.25658868 0.32902688 0.14351737]\n",
      "1.4848941772604092\n",
      "0.24748236287673486\n",
      "0.21802890956367313\n"
     ]
    }
   ],
   "source": [
    "## FILL IN YOUR ANSWER HERE ##\n",
    "S = np.random.rand(6)\n",
    "print(S)\n",
    "print(np.sum(S))\n",
    "print(np.mean(S))\n",
    "print(np.std(S))"
   ]
  }
 ],
 "metadata": {
  "anaconda-cloud": {},
  "kernelspec": {
   "display_name": "Python 3",
   "language": "python",
   "name": "python3"
  },
  "language_info": {
   "codemirror_mode": {
    "name": "ipython",
    "version": 3
   },
   "file_extension": ".py",
   "mimetype": "text/x-python",
   "name": "python",
   "nbconvert_exporter": "python",
   "pygments_lexer": "ipython3",
   "version": "3.6.8"
  }
 },
 "nbformat": 4,
 "nbformat_minor": 1
}
